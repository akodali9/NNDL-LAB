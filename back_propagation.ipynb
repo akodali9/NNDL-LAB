{
 "cells": [
  {
   "cell_type": "code",
   "execution_count": 22,
   "metadata": {},
   "outputs": [],
   "source": [
    "import numpy as np\n",
    "import matplotlib.pyplot as plt\n",
    "\n",
    "%matplotlib inline\n",
    "plt.rcParams['figure.facecolor'] = 'white'"
   ]
  },
  {
   "cell_type": "code",
   "execution_count": 23,
   "metadata": {},
   "outputs": [
    {
     "name": "stdout",
     "output_type": "stream",
     "text": [
      "[[0, 0], [0, 1], [1, 0], [1, 1]]\n",
      "[[0 0]\n",
      " [0 1]\n",
      " [1 0]\n",
      " [1 1]]\n",
      "[0, 1, 1, 0]\n",
      "[[0]\n",
      " [1]\n",
      " [1]\n",
      " [0]]\n"
     ]
    }
   ],
   "source": [
    "X=[[0,0],[0,1],[1,0],[1,1]]\n",
    "print(X)\n",
    "X=np.reshape(X, (4, 2))\n",
    "print(X)\n",
    "Y=[0,1,1,0]\n",
    "print(Y)\n",
    "Y=np.reshape(Y, (4, 1))\n",
    "print(Y)\n"
   ]
  },
  {
   "cell_type": "code",
   "execution_count": 24,
   "metadata": {},
   "outputs": [],
   "source": [
    "def sig(z):\n",
    "    return 1 / (1 + np.exp(-z))\n",
    "\n",
    "def dsig_dz(z):\n",
    "    return sig(z) * (1 - sig(z))\n",
    "\n",
    "def J(y, yhat):\n",
    "    return -(y - yhat)\n",
    "\n",
    "def dJ_dy(y, yhat):\n",
    "    return (-(y - yhat))"
   ]
  },
  {
   "cell_type": "code",
   "execution_count": 25,
   "metadata": {},
   "outputs": [],
   "source": [
    "n_input = 2\n",
    "n_hidden = 2\n",
    "n_output = 1"
   ]
  },
  {
   "cell_type": "code",
   "execution_count": 26,
   "metadata": {},
   "outputs": [
    {
     "name": "stdout",
     "output_type": "stream",
     "text": [
      "w1\n",
      " [[0.4 0.6]\n",
      " [0.3 0.8]]\n",
      "w2\n",
      " [[0.1]\n",
      " [0.7]]\n",
      "b1\n",
      " [[-0.055857  ]\n",
      " [-0.06263402]]\n",
      "b2\n",
      " [[0.02521021]]\n"
     ]
    }
   ],
   "source": [
    "w1 = [[0.4,0.6],[0.3,0.8]]\n",
    "w1=np.reshape(w1, (2, 2))\n",
    "w2 = [0.1,0.7]\n",
    "w2=np.reshape(w2, (2, 1))\n",
    "print(\"w1\\n\",w1)\n",
    "print(\"w2\\n\",w2)\n",
    "\n",
    "b1 = np.random.normal(0,0.1, size=(n_hidden, 1))\n",
    "b2 = np.random.normal(0,0.1, size=(n_output, 1))\n",
    "print(\"b1\\n\",b1)\n",
    "print(\"b2\\n\",b2)"
   ]
  },
  {
   "cell_type": "code",
   "execution_count": 27,
   "metadata": {},
   "outputs": [],
   "source": [
    "def forward1(x0, w1, b1, w2, b2):\n",
    "    x1 = sig(np.dot(x0, w1) + b1.T)  # output of hidden layer\n",
    "    return sig(np.dot(x1, w2) + b2.T)  # output of output layer"
   ]
  },
  {
   "cell_type": "code",
   "execution_count": 28,
   "metadata": {},
   "outputs": [],
   "source": [
    "def forward2(x0, w1, w2):\n",
    "    hls = np.dot(x0, w1)\n",
    "    hla = sig(hls)  # output of hidden layer\n",
    "    ols = np.dot(hla, w2)\n",
    "    ola = sig(ols)\n",
    "    return ola  # output of output layer"
   ]
  },
  {
   "cell_type": "code",
   "execution_count": 29,
   "metadata": {},
   "outputs": [
    {
     "data": {
      "text/plain": [
       "array([[0.59868766],\n",
       "       [0.6319116 ],\n",
       "       [0.62523494],\n",
       "       [0.65211467]])"
      ]
     },
     "execution_count": 29,
     "metadata": {},
     "output_type": "execute_result"
    }
   ],
   "source": [
    "yhat = forward2(X, w1, w2)\n",
    "yhat"
   ]
  },
  {
   "cell_type": "code",
   "execution_count": 30,
   "metadata": {},
   "outputs": [],
   "source": [
    "def backward1(x0, w1, b1, w2, b2, y, yhat, alpha):\n",
    "    # quantities\n",
    "    z1 = np.dot(x0, w1) + b1.T\n",
    "    x1 = sig(z1)\n",
    "    z2 = np.dot(x1, w2) + b2.T\n",
    "    y = sig(z2)\n",
    "\n",
    "    delta2 = dJ_dy(y, yhat) * dsig_dz(z2)\n",
    "    delta1 = np.matmul(w2, delta2) * dsig_dz(z1).T\n",
    "\n",
    "    w2 -= alpha * np.multiply(delta2, x1).T\n",
    "    w1 -= alpha * np.multiply(delta1, x0).T\n",
    "\n",
    "    b2 -= alpha * delta2\n",
    "    b1 -= alpha * delta1\n",
    "    \n",
    "    return w1, b1, w2, b2"
   ]
  },
  {
   "cell_type": "code",
   "execution_count": 31,
   "metadata": {},
   "outputs": [],
   "source": [
    "def backward2(x0, w1,w2, y,alpha):\n",
    "    # quantities\n",
    "    z1 = np.dot(x0, w1)\n",
    "    \n",
    "    az1 = sig(z1)\n",
    "    \n",
    "    z2 = np.dot(az1, w2)\n",
    "    \n",
    "    yhat = sig(z2)\n",
    "    yhat=np.reshape(yhat, (4, 1))\n",
    "    \n",
    "    \n",
    "    djdy = dJ_dy(y, yhat)\n",
    "    dsigdz =  dsig_dz(z2)   \n",
    " \n",
    "    dsigdz=np.reshape(dsigdz, (4, 1))\n",
    "    delta2 = djdy * dsigdz\n",
    " \n",
    "    delta1 = np.multiply(delta2,az1)\n",
    "    lndt1 = delta1.shape\n",
    "    w2 = w2.T\n",
    "    dw2 = w2.copy()\n",
    "    for dj in range(4):\n",
    "        dw2 -= alpha* delta1[dj, :]\n",
    "    \n",
    "    \n",
    "    delta3 = np.matmul(delta2 , w2)\n",
    "    \n",
    "    hidden_act_derviative=(az1*(1-az1))\n",
    "\n",
    "    pr = np.multiply(delta3,hidden_act_derviative)\n",
    "    C = []\n",
    "    for i in range(len(pr)):\n",
    "        ls = []\n",
    "        for j in range(len(pr[0])):\n",
    "            for k in range(len(x0[0])):\n",
    "                cal_value=pr[i][j]*x0[i][k]\n",
    "                if(cal_value == 0):\n",
    "                    cal_value = abs(cal_value)\n",
    "                ls.append(cal_value)\n",
    "        C.append(ls)\n",
    "\n",
    "    for i in range(len(w1)):\n",
    "        for j in range(len(C[0])):\n",
    "            w1[i][0] = w1[i][0]-alpha*C[i][j]\n",
    "    \n",
    "    w2=dw2.reshape((2,1)) #dw2 is of shape (1,2) reshape it to (2,1)\n",
    "\n",
    "    return w1, w2"
   ]
  },
  {
   "cell_type": "code",
   "execution_count": 32,
   "metadata": {},
   "outputs": [],
   "source": [
    "def check_successive(prev_array, curr_array):\n",
    "    diff = prev_array-curr_array\n",
    "    return np.any(diff<0.001)"
   ]
  },
  {
   "cell_type": "code",
   "execution_count": 33,
   "metadata": {},
   "outputs": [
    {
     "name": "stdout",
     "output_type": "stream",
     "text": [
      "Final Weights total trained in  396 epochs\n",
      "W1= [[0.4       0.6      ]\n",
      " [0.3746229 0.8      ]]\n",
      "W2= [[-0.24596872]\n",
      " [ 0.34400101]]\n"
     ]
    }
   ],
   "source": [
    "alpha=0.1\n",
    "yhat = forward2(X, w1, w2)\n",
    "epochs = 500\n",
    "\n",
    "while epochs:\n",
    "    prev_w1, prev_w2 = w1,w2\n",
    "    w1, w2 = backward2(X, w1, w2, Y, alpha)\n",
    "    epochs-=1\n",
    "    #print(\"PREV\",prev_w1,prev_w2)\n",
    "    #print(\"NEW\",w1,w2)\n",
    "    if check_successive(prev_w1,w1) and check_successive(prev_w2,w2):\n",
    "        print(\"Final Weights total trained in \",epochs,\"epochs\")\n",
    "        print(\"W1=\",w1)\n",
    "        print(\"W2=\",w2)\n",
    "        \n",
    "        break\n",
    "else:\n",
    "    print(\"Epochs Exhausted\")\n"
   ]
  }
 ],
 "metadata": {
  "kernelspec": {
   "display_name": "Python 3",
   "language": "python",
   "name": "python3"
  },
  "language_info": {
   "codemirror_mode": {
    "name": "ipython",
    "version": 3
   },
   "file_extension": ".py",
   "mimetype": "text/x-python",
   "name": "python",
   "nbconvert_exporter": "python",
   "pygments_lexer": "ipython3",
   "version": "3.11.5"
  },
  "orig_nbformat": 4
 },
 "nbformat": 4,
 "nbformat_minor": 2
}
