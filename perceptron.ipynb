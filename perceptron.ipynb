{
  "cells": [
    {
      "cell_type": "markdown",
      "metadata": {
        "id": "fIDrvN-hBgQl"
      },
      "source": [
        "SINGLE LAYER PERCEPTRON"
      ]
    },
    {
      "cell_type": "code",
      "execution_count": 3,
      "metadata": {
        "colab": {
          "base_uri": "https://localhost:8080/",
          "height": 881
        },
        "id": "YrDPNcS_ABmr",
        "outputId": "8740bca6-fb9a-435d-bc68-fcc79d776b73"
      },
      "outputs": [
        {
          "name": "stdout",
          "output_type": "stream",
          "text": [
            "iteration: 0. Error: 0.49956603671850613\n",
            "iteration: 1000. Error: 0.016502473144792425\n",
            "iteration: 2000. Error: 0.006231699844442185\n",
            "iteration: 3000. Error: 0.0037813238944432266\n",
            "iteration: 4000. Error: 0.0026972613255844278\n",
            "iteration: 5000. Error: 0.0020892013281882437\n",
            "iteration: 6000. Error: 0.001701256079844125\n",
            "iteration: 7000. Error: 0.0014327536391288507\n",
            "iteration: 8000. Error: 0.0012361641022466544\n",
            "iteration: 9000. Error: 0.0010861633307340658\n",
            "iteration: 10000. Error: 0.000968038210313521\n",
            "iteration: 11000. Error: 0.0008726639940557156\n",
            "iteration: 12000. Error: 0.0007940852688192692\n",
            "iteration: 13000. Error: 0.000728252131948064\n",
            "iteration: 14000. Error: 0.0006723158363092589\n",
            "Training complete\n",
            "Precentages: \n",
            "[[9.99529677e-01]\n",
            " [9.99356151e-01]\n",
            " [2.89809232e-04]\n",
            " [1.09287907e-03]]\n",
            "Predictions: \n",
            "[[1.]\n",
            " [1.]\n",
            " [0.]\n",
            " [0.]]\n"
          ]
        },
        {
          "data": {
            "image/png": "[encoded data removed]",
            "text/plain": [
              "<Figure size 640x480 with 1 Axes>"
            ]
          },
          "metadata": {},
          "output_type": "display_data"
        }
      ],
      "source": [
        "import numpy as np\n",
        "import matplotlib.pyplot as plt\n",
        "from sklearn.datasets import load_iris\n",
        "\n",
        "input = np.array([[1,1,0],[1,0,1],[1,0,0],[1,1,1]])\n",
        "output = np.array([[1],[1],[0],[0]])\n",
        "\n",
        "# data = load_iris()\n",
        "# input = data.data\n",
        "# output = data.target\n",
        "\n",
        "def sigmoid(x):\n",
        "  return 1/(1+np.exp(-x))\n",
        "\n",
        "def derivation_sigmoid(x):\n",
        "  return sigmoid(x)*(1-sigmoid(x))\n",
        "\n",
        "def forward(inp,w1,w2,predict=False):\n",
        "  a1 = np.matmul(inp,w1)\n",
        "  z1 = sigmoid(a1)\n",
        "  bias = np.ones((len(z1),1))\n",
        "  z1 = np.concatenate((bias,z1),axis=1)\n",
        "  a2 = np.matmul(z1,w2)\n",
        "  z2 = sigmoid(a2)\n",
        "  if predict:\n",
        "    return z2\n",
        "  return a1,z1,a2,z2\n",
        "\n",
        "def backprop(a2,z0,z1,z2,out):\n",
        "  delta2 = z2 - out\n",
        "  Delta2 = np.matmul(z1.T,delta2)\n",
        "  delta1 = (delta2.dot(w2[1:,:].T))*derivation_sigmoid(a1)\n",
        "  Delta1 = np.matmul(z0.T,delta1)\n",
        "  return delta2,Delta1,Delta2\n",
        "\n",
        "w1 = np.random.randn(3,5)\n",
        "w2 = np.random.randn(6,1)\n",
        "\n",
        "lr = 0.89\n",
        "costs = []\n",
        "\n",
        "epochs = 15000\n",
        "m = len(input)\n",
        "for i in range(epochs):\n",
        "  a1,z1,a2,z2 = forward(input,w1,w2)\n",
        "  delta2,Delta1,Delta2 = backprop(a2,input,z1,z2,output)\n",
        "  w1 -= lr*(1/m)*Delta1\n",
        "  w2 -= lr*(1/m)*Delta2\n",
        "  c = np.mean(np.abs(delta2))\n",
        "  costs.append(c)\n",
        "  if i % 1000 == 0:\n",
        "    print(f\"iteration: {i}. Error: {c}\")\n",
        "print(\"Training complete\")\n",
        "\n",
        "z3 = forward(input,w1,w2,True)\n",
        "print(\"Precentages: \")\n",
        "print(z3)\n",
        "print(\"Predictions: \")\n",
        "print(np.round(z3))\n",
        "plt.plot(costs)\n",
        "plt.show()"
      ]
    }
  ],
  "metadata": {
    "colab": {
      "provenance": []
    },
    "kernelspec": {
      "display_name": "Python 3",
      "name": "python3"
    },
    "language_info": {
      "codemirror_mode": {
        "name": "ipython",
        "version": 3
      },
      "file_extension": ".py",
      "mimetype": "text/x-python",
      "name": "python",
      "nbconvert_exporter": "python",
      "pygments_lexer": "ipython3",
      "version": "3.11.5"
    }
  },
  "nbformat": 4,
  "nbformat_minor": 0
}
