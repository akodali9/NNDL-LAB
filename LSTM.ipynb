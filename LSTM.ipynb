{
 "cells": [
  {
   "cell_type": "code",
   "execution_count": 1,
   "id": "1d98f241-d6a5-41a4-9792-e810324ae9d6",
   "metadata": {},
   "outputs": [],
   "source": [
    "import numpy as np"
   ]
  },
  {
   "cell_type": "code",
   "execution_count": 2,
   "id": "148f14df-e773-48b9-acc9-864524b02368",
   "metadata": {},
   "outputs": [],
   "source": [
    "wc = np.array([0.81, 0.73])\n",
    "wi = np.array([0.62, 0.34])\n",
    "wf = np.array([0.23, 0.83])\n",
    "wo = np.array([0.25, 0.34])"
   ]
  },
  {
   "cell_type": "code",
   "execution_count": 3,
   "id": "0b738e3e-bdf1-47b4-8153-0a23be1f0984",
   "metadata": {},
   "outputs": [],
   "source": [
    "uc = 0.78\n",
    "ui = 0.68\n",
    "uf = 0.14\n",
    "uo = 0.12"
   ]
  },
  {
   "cell_type": "code",
   "execution_count": 5,
   "id": "5b228b84-05fb-4f6c-98bb-d4484b103c91",
   "metadata": {},
   "outputs": [],
   "source": [
    "x0 = np.array([0.59, 0.54])\n",
    "label0 = 0.22"
   ]
  },
  {
   "cell_type": "code",
   "execution_count": 6,
   "id": "e6bc26b9-37a3-4ff0-90f0-52985a0520b5",
   "metadata": {},
   "outputs": [],
   "source": [
    "x1 = np.array([0.91, 0.27])\n",
    "label1 = 0.33"
   ]
  },
  {
   "cell_type": "code",
   "execution_count": 42,
   "id": "fc952d19-c223-417d-a41a-18a14d946526",
   "metadata": {},
   "outputs": [
    {
     "data": {
      "text/plain": [
       "array([0., 0.])"
      ]
     },
     "execution_count": 42,
     "metadata": {},
     "output_type": "execute_result"
    }
   ],
   "source": [
    "c_prev = np.zeros_like(x0)\n",
    "c_prev"
   ]
  },
  {
   "cell_type": "code",
   "execution_count": 43,
   "id": "b03d90a7-834d-498c-91a2-a7229726f9ca",
   "metadata": {},
   "outputs": [
    {
     "data": {
      "text/plain": [
       "array([0., 0.])"
      ]
     },
     "execution_count": 43,
     "metadata": {},
     "output_type": "execute_result"
    }
   ],
   "source": [
    "h_prev = np.zeros_like(x0)\n",
    "h_prev"
   ]
  },
  {
   "cell_type": "code",
   "execution_count": 15,
   "id": "3206e798-b8b2-463e-a394-e7d55a71f9ca",
   "metadata": {},
   "outputs": [],
   "source": [
    "def sigmoid(x):\n",
    "    return 1/(1+np.exp(-x))"
   ]
  },
  {
   "cell_type": "code",
   "execution_count": 34,
   "id": "9f9558f8-e590-4478-9462-2d1b8b53309d",
   "metadata": {},
   "outputs": [],
   "source": [
    "def lstm_forward(x, h_prev, c_prev, wc, wi, wf, wo, uc, ui, uf, uo):\n",
    "    f = sigmoid(np.dot(wf, x) + uf * h_prev)\n",
    "    i = sigmoid(np.dot(wi, x) + ui * h_prev)\n",
    "    o = sigmoid(np.dot(wo, x) + uo * h_prev)\n",
    "    c_bar = np.tanh(np.dot(wc, x) + uc * h_prev)\n",
    "\n",
    "    c = f * h_prev + i * c_bar\n",
    "    h = o * np.tanh(c)\n",
    "\n",
    "    return h, c"
   ]
  },
  {
   "cell_type": "code",
   "execution_count": 41,
   "id": "f301245a-f2c6-4a1f-8d15-92634ab0e107",
   "metadata": {},
   "outputs": [
    {
     "name": "stdout",
     "output_type": "stream",
     "text": [
      "[0.24332474 0.24332474] [0.44534411 0.44534411]\n",
      "[0.35081486 0.35081486] [0.68614059 0.68614059]\n",
      "[0.39002636 0.39002636] [0.79028568 0.79028568]\n",
      "[0.40311277 0.40311277] [0.82793323 0.82793323]\n",
      "[0.4073402 0.4073402] [0.84045718 0.84045718]\n",
      "[0.40869107 0.40869107] [0.84449861 0.84449861]\n",
      "[0.40912122 0.40912122] [0.8457896 0.8457896]\n",
      "[0.40925804 0.40925804] [0.84620064 0.84620064]\n",
      "[0.40930155 0.40930155] [0.84633138 0.84633138]\n",
      "[0.40931538 0.40931538] [0.84637295 0.84637295]\n"
     ]
    }
   ],
   "source": [
    "for i in range(10):\n",
    "    h0, c0 = lstm_forward(x0, h_prev, c_prev, wc, wi, wf, wo, uc, ui, uf, uo)\n",
    "    h_prev, c_prev = h0, c0\n",
    "    print(h0, c0)"
   ]
  },
  {
   "cell_type": "code",
   "execution_count": 36,
   "id": "044c4d6c-ab64-4516-b837-6ea8414eb17e",
   "metadata": {},
   "outputs": [
    {
     "data": {
      "text/plain": [
       "(array([0.35854321, 0.35854321]), array([0.71144774, 0.71144774]))"
      ]
     },
     "execution_count": 36,
     "metadata": {},
     "output_type": "execute_result"
    }
   ],
   "source": [
    "h1, c1 = lstm_forward(x1, h0, c0, wc, wi, wf, wo, uc, ui, uf, uo)\n",
    "h1, c1"
   ]
  }
 ],
 "metadata": {
  "kernelspec": {
   "display_name": "Python 3 (ipykernel)",
   "language": "python",
   "name": "python3"
  },
  "language_info": {
   "codemirror_mode": {
    "name": "ipython",
    "version": 3
   },
   "file_extension": ".py",
   "mimetype": "text/x-python",
   "name": "python",
   "nbconvert_exporter": "python",
   "pygments_lexer": "ipython3",
   "version": "3.11.6"
  }
 },
 "nbformat": 4,
 "nbformat_minor": 5
}
