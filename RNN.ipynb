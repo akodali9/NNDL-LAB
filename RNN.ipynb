{
 "cells": [
  {
   "cell_type": "code",
   "execution_count": 3,
   "id": "25d8995e-e6c0-4e04-89a8-df233e3ad47b",
   "metadata": {},
   "outputs": [],
   "source": [
    "import numpy as np"
   ]
  },
  {
   "cell_type": "markdown",
   "id": "72a66621-f1ae-4de3-a69f-a122c03c1d76",
   "metadata": {},
   "source": [
    "Loading text data for RNN"
   ]
  },
  {
   "cell_type": "code",
   "execution_count": 4,
   "id": "36bcdc46-507c-4f93-a12e-bdccd8d1717e",
   "metadata": {},
   "outputs": [
    {
     "name": "stdout",
     "output_type": "stream",
     "text": [
      "unique characters :  4\n",
      "txt_data_size :  4\n"
     ]
    }
   ],
   "source": [
    "text_data = \"abc \" # input data\n",
    "# txt_data = open('input.txt', 'r').read() # test external files\n",
    "\n",
    "chars = list(set(text_data)) # split and remove duplicate characters. convert to list.\n",
    "\n",
    "num_chars = len(chars) # the number of unique characters\n",
    "num_data_size = len(text_data)\n",
    "\n",
    "print(\"unique characters : \", num_chars) # You can see the number of unique characters in your input data.\n",
    "print(\"txt_data_size : \", num_data_size)"
   ]
  },
  {
   "cell_type": "code",
   "execution_count": 6,
   "id": "b6bc4fd0-e5c4-4f04-970c-bce2b6218d09",
   "metadata": {},
   "outputs": [
    {
     "name": "stdout",
     "output_type": "stream",
     "text": [
      "{'b': 0, 'a': 1, ' ': 2, 'c': 3}\n",
      "----------------------------------------------------\n",
      "{0: 'b', 1: 'a', 2: ' ', 3: 'c'}\n",
      "----------------------------------------------------\n",
      "[1, 0, 3, 2]\n",
      "----------------------------------------------------\n",
      "data length :  4\n"
     ]
    }
   ],
   "source": [
    "char_to_int = dict((c, i) for i, c in enumerate(chars)) # \"enumerate\" retruns index and value. Convert it to dictionary\n",
    "int_to_char = dict((i, c) for i, c in enumerate(chars))\n",
    "print(char_to_int)\n",
    "print(\"----------------------------------------------------\")\n",
    "print(int_to_char)\n",
    "print(\"----------------------------------------------------\")\n",
    "# integer encode input data\n",
    "integer_encoded = [char_to_int[i] for i in text_data] # \"integer_encoded\" is a list which has a sequence converted from an original data to integers.\n",
    "print(integer_encoded)\n",
    "print(\"----------------------------------------------------\")\n",
    "print(\"data length : \", len(integer_encoded))"
   ]
  },
  {
   "cell_type": "code",
   "execution_count": 7,
   "id": "08ff9a0e-b52a-4dce-8a88-6202afacfbb6",
   "metadata": {},
   "outputs": [
    {
     "name": "stdout",
     "output_type": "stream",
     "text": [
      "W_xh  [[0.1 0.1 0.1 0.1]\n",
      " [0.1 0.1 0.1 0.1]]\n",
      "W_hh  [[0.1 0.1]\n",
      " [0.1 0.1]]\n",
      "W_hy  [[0.1 0.1]\n",
      " [0.1 0.1]\n",
      " [0.1 0.1]\n",
      " [0.1 0.1]]\n",
      "b_h  [[0.]\n",
      " [0.]]\n",
      "b_y  [[0.]\n",
      " [0.]\n",
      " [0.]\n",
      " [0.]]\n",
      "h_prev  [[0.]\n",
      " [0.]]\n"
     ]
    }
   ],
   "source": [
    "iteration = 10\n",
    "sequence_length = 5\n",
    "batch_size = round((num_data_size /sequence_length)+0.5) # = math.ceil\n",
    "hidden_size =2  # size of hidden layer of neurons.  \n",
    "learning_rate = 0.01\n",
    "\n",
    "\n",
    "# model parameters\n",
    "\n",
    "\n",
    "W_xh = np.array([[0.1, 0.1, 0.1, 0.1],[0.1, 0.1, 0.1, 0.1]])     # weight input -> hidden. \n",
    "print(\"W_xh \",W_xh)\n",
    "W_hh = np.array([0.1,0.1,0.1,0.1])    # weight hidden -> hidden\n",
    "W_hh = np.reshape(W_hh,(2,2))\n",
    "print(\"W_hh \",W_hh)\n",
    "W_hy = np.array([[0.1, 0.1, 0.1, 0.1],[0.1, 0.1, 0.1, 0.1]])     # weight hidden -> output\n",
    "W_hy = np.reshape(W_hy,(4,2))\n",
    "print(\"W_hy \",W_hy)\n",
    "\n",
    "b_h = np.zeros((hidden_size, 1)) # hidden bias\n",
    "print(\"b_h \",b_h)\n",
    "b_y = np.zeros((num_chars, 1)) # output bias\n",
    "print(\"b_y \",b_y)\n",
    "h_prev = np.zeros((hidden_size,1)) # h_(t-1)\n",
    "print(\"h_prev \",h_prev)"
   ]
  },
  {
   "cell_type": "code",
   "execution_count": 8,
   "id": "37c6e838-5c82-40b8-a488-a7cb53b02419",
   "metadata": {},
   "outputs": [],
   "source": [
    "def forwardprop(inputs, targets, h_prev):\n",
    "        \n",
    "    # Since the RNN receives the sequence, the weights are not updated during one sequence.\n",
    "    xs, hs, ys, ps = {}, {}, {}, {} # dictionary\n",
    "    hs[-1] = np.copy(h_prev) # Copy previous hidden state vector to -1 key value.\n",
    "    loss = 0 # loss initialization\n",
    "    \n",
    "    for t in range(len(inputs)): # t is a \"time step\" and is used as a key(dic).  \n",
    "        \n",
    "        xs[t] = np.zeros((num_chars,1)) \n",
    "#         print(\"xs[\",t,\"] \",xs[t])\n",
    "        xs[t][inputs[t]] = 1\n",
    "#         print(\"xs[\",t,\"] \",xs[t])\n",
    "        hs[t] = np.tanh(np.dot(W_xh, xs[t]) + np.dot(W_hh, hs[t-1]) + b_h) # hidden state. \n",
    "#         print(\"hs[\",t,\"] \",hs[t])\n",
    "        ys[t] = np.dot(W_hy, hs[t]) + b_y # unnormalized log probabilities for next chars\n",
    "#         print(\"ys[\",t,\"] \",ys[t])\n",
    "        ps[t] = np.exp(ys[t]) / np.sum(np.exp(ys[t])) # probabilities for next chars. \n",
    "#         print(\"ps[\",t,\"] \",ps[t])\n",
    "        # Softmax. -> The sum of probabilities is 1 even without the exp() function, but all of the elements are positive through the exp() function.\n",
    " \n",
    "        loss += -np.log(ps[t][targets[t],0]) # softmax (cross-entropy loss). Efficient and simple code\n",
    "#         print(\"loss \",loss)\n",
    "\n",
    "#         y_class = np.zeros((num_chars, 1)) \n",
    "#         y_class[targets[t]] =1\n",
    "#         loss += np.sum(y_class*(-np.log(ps[t]))) # softmax (cross-entropy loss)        \n",
    "\n",
    "    return loss, ps, hs, xs "
   ]
  },
  {
   "cell_type": "code",
   "execution_count": 9,
   "id": "28e2b0a6-0aaa-4881-a6cf-ab9693866bb2",
   "metadata": {},
   "outputs": [],
   "source": [
    "def backprop(ps, inputs, hs, xs):\n",
    "\n",
    "    dWxh, dWhh, dWhy = np.zeros_like(W_xh), np.zeros_like(W_hh), np.zeros_like(W_hy) # make all zero matrices.\n",
    "#     print(\"dWxh \",dWxh)\n",
    "#     print(\"dWhh \",dWhh)\n",
    "#     print(\"dWhy \",dWhy)\n",
    "    dbh, dby = np.zeros_like(b_h), np.zeros_like(b_y)\n",
    "#     print(\"dbh \",dbh)\n",
    "#     print(\"dby \",dby)\n",
    "    dhnext = np.zeros_like(hs[0]) # (hidden_size,1) \n",
    "#     print(\"dhnext \",dhnext)\n",
    "\n",
    "    # reversed\n",
    "    for t in reversed(range(len(inputs))):\n",
    "        dy = np.copy(ps[t]) # shape (num_chars,1).  \"dy\" means \"dloss/dy\"\n",
    "        dy[targets[t]] -= 1 # backprop into y. After taking the soft max in the input vector, subtract 1 from the value of the element corresponding to the correct label.\n",
    "        dWhy += np.dot(dy, hs[t].T)\n",
    "        dby += dy \n",
    "        dh = np.dot(W_hy.T, dy) + dhnext # backprop into h. \n",
    "        dhraw = (1 - hs[t] * hs[t]) * dh # backprop through tanh nonlinearity #tanh'(x) = 1-tanh^2(x)\n",
    "        dbh += dhraw\n",
    "        dWxh += np.dot(dhraw, xs[t].T)\n",
    "        dWhh += np.dot(dhraw, hs[t-1].T)\n",
    "        dhnext = np.dot(W_hh.T, dhraw)\n",
    "    for dparam in [dWxh, dWhh, dWhy, dbh, dby]: \n",
    "        np.clip(dparam, -5, 5, out=dparam) # clip to mitigate exploding gradients.  \n",
    "    \n",
    "    return dWxh, dWhh, dWhy, dbh, dby"
   ]
  },
  {
   "cell_type": "code",
   "execution_count": 10,
   "id": "3cf10600-bb19-4687-bd2e-9964a34f6317",
   "metadata": {},
   "outputs": [],
   "source": [
    "LOSS = []"
   ]
  },
  {
   "cell_type": "code",
   "execution_count": 11,
   "id": "f8ff8b15-1601-492c-aa9d-85f2e4edcd83",
   "metadata": {},
   "outputs": [
    {
     "name": "stdout",
     "output_type": "stream",
     "text": [
      "iter 1, loss: 5.545177\n",
      "iter 2, loss: 5.519996\n",
      "iter 3, loss: 5.499946\n",
      "iter 4, loss: 5.481137\n",
      "iter 5, loss: 5.462959\n",
      "iter 6, loss: 5.445246\n",
      "iter 7, loss: 5.427882\n",
      "iter 8, loss: 5.410816\n",
      "iter 9, loss: 5.394015\n",
      "iter 10, loss: 5.377457\n"
     ]
    }
   ],
   "source": [
    "data_pointer = 0\n",
    "\n",
    "# memory variables for Adagrad\n",
    "mWxh, mWhh, mWhy = np.zeros_like(W_xh), np.zeros_like(W_hh), np.zeros_like(W_hy)\n",
    "mbh, mby = np.zeros_like(b_h), np.zeros_like(b_y) \n",
    "\n",
    "\n",
    "for i in range(iteration):\n",
    "    h_prev = np.zeros((hidden_size,1)) # reset RNN memory\n",
    "    data_pointer = 0 # go from start of data\n",
    "    \n",
    "    for b in range(batch_size):\n",
    "        \n",
    "        inputs = [char_to_int[ch] for ch in text_data[data_pointer:data_pointer+sequence_length]]\n",
    "        targets = [char_to_int[ch] for ch in text_data[data_pointer+1:data_pointer+sequence_length+1]] # t+1        \n",
    "            \n",
    "        if (data_pointer+sequence_length+1 >= len(text_data) and b == batch_size-1): # processing of the last part of the input data. \n",
    "#             targets.append(char_to_int[txt_data[0]])   # When the data doesn't fit, add the first char to the back.\n",
    "            targets.append(char_to_int[\" \"])   # When the data doesn't fit, add space(\" \") to the back.\n",
    "\n",
    "\n",
    "        # forward\n",
    "        loss, ps, hs, xs = forwardprop(inputs, targets, h_prev)\n",
    "#         print(loss)\n",
    "    \n",
    "        # backward\n",
    "        dWxh, dWhh, dWhy, dbh, dby = backprop(ps, inputs, hs, xs) \n",
    "        \n",
    "        \n",
    "    # perform parameter update with Adagrad\n",
    "        for param, dparam, mem in zip([W_xh, W_hh, W_hy, b_h, b_y], \n",
    "                                    [dWxh, dWhh, dWhy, dbh, dby], \n",
    "                                    [mWxh, mWhh, mWhy, mbh, mby]):\n",
    "            mem += dparam * dparam # elementwise\n",
    "            param += -learning_rate * dparam / np.sqrt(mem + 1e-8) # adagrad update      \n",
    "    \n",
    "        data_pointer += sequence_length # move data pointer\n",
    "        \n",
    "    #if i % 100 == 0:\n",
    "    print ('iter %d, loss: %f' % (i+1, loss)) # print progress\n",
    "    LOSS.append(loss)"
   ]
  },
  {
   "cell_type": "code",
   "execution_count": 12,
   "id": "9f3e7e4b-284c-422d-96b9-263a56004a9d",
   "metadata": {},
   "outputs": [
    {
     "data": {
      "text/plain": [
       "[<matplotlib.lines.Line2D at 0x24596d460d0>]"
      ]
     },
     "execution_count": 12,
     "metadata": {},
     "output_type": "execute_result"
    },
    {
     "data": {
      "image/png": "[encoded data removed]",
      "text/plain": [
       "<Figure size 640x480 with 1 Axes>"
      ]
     },
     "metadata": {},
     "output_type": "display_data"
    }
   ],
   "source": [
    "import matplotlib.pyplot as plt\n",
    "plt.plot(LOSS)"
   ]
  }
 ],
 "metadata": {
  "kernelspec": {
   "display_name": "Python 3 (ipykernel)",
   "language": "python",
   "name": "python3"
  },
  "language_info": {
   "codemirror_mode": {
    "name": "ipython",
    "version": 3
   },
   "file_extension": ".py",
   "mimetype": "text/x-python",
   "name": "python",
   "nbconvert_exporter": "python",
   "pygments_lexer": "ipython3",
   "version": "3.11.6"
  }
 },
 "nbformat": 4,
 "nbformat_minor": 5
}
