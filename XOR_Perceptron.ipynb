{
 "cells": [
  {
   "cell_type": "code",
   "execution_count": 45,
   "metadata": {},
   "outputs": [],
   "source": [
    "import numpy as np"
   ]
  },
  {
   "cell_type": "code",
   "execution_count": 46,
   "metadata": {},
   "outputs": [
    {
     "name": "stdout",
     "output_type": "stream",
     "text": [
      "Input Given: \n",
      " [[0 0]\n",
      " [0 1]\n",
      " [1 0]\n",
      " [1 1]]\n",
      "Expected Output: \n",
      " [[0]\n",
      " [1]\n",
      " [1]\n",
      " [0]]\n"
     ]
    }
   ],
   "source": [
    "X = np.array([[0, 0], [0, 1], [1, 0], [1, 1]])\n",
    "print(\"Input Given: \\n\", X)\n",
    "\n",
    "y = np.array([[0], [1], [1], [0]])\n",
    "print(\"Expected Output: \\n\", y)"
   ]
  },
  {
   "cell_type": "code",
   "execution_count": 47,
   "metadata": {},
   "outputs": [],
   "source": [
    "w11 = np.asarray([1, 1])\n",
    "w12 = np.asarray([1, 1])\n",
    "w2 = np.asarray([-1, 1])\n",
    "\n",
    "B1 = np.asarray([-0.5, -0.5])\n",
    "B2 = np.asarray([-0.5])"
   ]
  },
  {
   "cell_type": "code",
   "execution_count": 48,
   "metadata": {},
   "outputs": [
    {
     "data": {
      "text/plain": [
       "(array([1, 1]),\n",
       " array([1, 1]),\n",
       " array([-1,  1]),\n",
       " array([-0.5, -0.5]),\n",
       " array([-0.5]))"
      ]
     },
     "execution_count": 48,
     "metadata": {},
     "output_type": "execute_result"
    }
   ],
   "source": [
    "w11, w12, w2, B1, B2"
   ]
  },
  {
   "cell_type": "code",
   "execution_count": 49,
   "metadata": {},
   "outputs": [
    {
     "name": "stdout",
     "output_type": "stream",
     "text": [
      "[0 0]\n"
     ]
    }
   ],
   "source": [
    "x = X[0]\n",
    "print(x)"
   ]
  },
  {
   "cell_type": "code",
   "execution_count": 50,
   "metadata": {},
   "outputs": [
    {
     "data": {
      "text/plain": [
       "2"
      ]
     },
     "execution_count": 50,
     "metadata": {},
     "output_type": "execute_result"
    }
   ],
   "source": [
    "len(w11)"
   ]
  },
  {
   "cell_type": "code",
   "execution_count": 51,
   "metadata": {},
   "outputs": [],
   "source": [
    "def summation(z, w11, w12, B1):\n",
    "    sumh = [0, 0]\n",
    "    for i in range(len(x)):\n",
    "        sumh[i] = (x[0]*w11[i]+x[1]*w12[i]+B1[i])\n",
    "    return sumh"
   ]
  },
  {
   "cell_type": "code",
   "execution_count": 52,
   "metadata": {},
   "outputs": [
    {
     "name": "stdout",
     "output_type": "stream",
     "text": [
      "[-0.5, -0.5]\n"
     ]
    }
   ],
   "source": [
    "sumv = summation(x, w11, w12, B1)\n",
    "print(sumv)"
   ]
  },
  {
   "cell_type": "code",
   "execution_count": 53,
   "metadata": {},
   "outputs": [],
   "source": [
    "def Heaviside(net):\n",
    "    if net >= 0:\n",
    "        return 1\n",
    "    else:\n",
    "        return 0"
   ]
  },
  {
   "cell_type": "code",
   "execution_count": 54,
   "metadata": {},
   "outputs": [
    {
     "name": "stdout",
     "output_type": "stream",
     "text": [
      "[0, 0]\n"
     ]
    }
   ],
   "source": [
    "hidden = [0, 0]\n",
    "for i in range(len(sumv)):\n",
    "    hidden[i] = Heaviside(sumv[i])\n",
    "print(hidden)"
   ]
  },
  {
   "cell_type": "code",
   "execution_count": 55,
   "metadata": {},
   "outputs": [
    {
     "name": "stdout",
     "output_type": "stream",
     "text": [
      "0\n"
     ]
    }
   ],
   "source": [
    "sumo = np.dot(hidden, w2) + B2[0]\n",
    "y_pred = Heaviside(sumo)\n",
    "print(y_pred)"
   ]
  },
  {
   "cell_type": "code",
   "execution_count": 56,
   "metadata": {},
   "outputs": [],
   "source": [
    "y_pred = []\n",
    "for i in range(X.shape[0]):\n",
    "    x = X[i]\n",
    "    sumv = summation(x, w11, w12, B1)\n",
    "    hidden =  [0, 0]\n",
    "    for i in range(len(sumv)):\n",
    "        hidden[i] =Heaviside(sumv[i])   \n",
    "    sumo = np.dot(hidden, w2) + B2[0]\n",
    "    y_pred.append(Heaviside(sumo)) \n",
    "\n"
   ]
  },
  {
   "cell_type": "code",
   "execution_count": 57,
   "metadata": {},
   "outputs": [
    {
     "name": "stdout",
     "output_type": "stream",
     "text": [
      "Computed Output:  [0, 0, 0, 0]\n"
     ]
    }
   ],
   "source": [
    "print(\"Computed Output: \",y_pred)"
   ]
  },
  {
   "cell_type": "code",
   "execution_count": null,
   "metadata": {},
   "outputs": [],
   "source": []
  }
 ],
 "metadata": {
  "kernelspec": {
   "display_name": "Python 3",
   "language": "python",
   "name": "python3"
  },
  "language_info": {
   "codemirror_mode": {
    "name": "ipython",
    "version": 3
   },
   "file_extension": ".py",
   "mimetype": "text/x-python",
   "name": "python",
   "nbconvert_exporter": "python",
   "pygments_lexer": "ipython3",
   "version": "3.11.4"
  },
  "orig_nbformat": 4
 },
 "nbformat": 4,
 "nbformat_minor": 2
}
