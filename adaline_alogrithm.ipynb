{
 "cells": [
  {
   "cell_type": "code",
   "execution_count": 1,
   "metadata": {},
   "outputs": [],
   "source": [
    "import matplotlib.pyplot as plt\n",
    "import numpy as np\n",
    "import pandas as pd"
   ]
  },
  {
   "cell_type": "code",
   "execution_count": 6,
   "metadata": {},
   "outputs": [],
   "source": [
    "def adaline(outputs, weights, bias):\n",
    "    total_error = 1\n",
    "    counter = 0\n",
    "    while total_error != 0 and counter < 10:\n",
    "\n",
    "        total_error = 0\n",
    "        counter += 1\n",
    "        for i in range(len(outputs)):\n",
    "            suml = INPUTS[i].dot(weights) + bias\n",
    "            prediction = step_function(suml)\n",
    "\n",
    "            total_error += outputs[i] - prediction\n",
    "            error = outputs[i] - suml\n",
    "\n",
    "            if outputs[i] != prediction:\n",
    "                weights[0] = weights[0] + (LEARNING_RATE * error * INPUTS[i][0])\n",
    "                weights[1] = weights[1] + (LEARNING_RATE * error * INPUTS[i][1])\n",
    "                bias = bias + (LEARNING_RATE * error)\n",
    "                print(\"Weight updated: \" + str(weights[0]))\n",
    "                print(\"Weight updated: \" + str(weights[1]))\n",
    "                print(\"Bias updated`: \" + str(bias))\n",
    "                print(\"----------------------------------------\")\n",
    "\n",
    "        print(\"Total error: \" + str(total_error))\n",
    "        print(\"----------------------------------------\")\n",
    "\n",
    "    return weights, bias"
   ]
  },
  {
   "cell_type": "code",
   "execution_count": 3,
   "metadata": {},
   "outputs": [],
   "source": [
    "# step function (activation function)\n",
    "def step_function(sum):\n",
    "    if sum >= 0:\n",
    "        return 1\n",
    "    return -1\n",
    "\n",
    "# calculateing output\n",
    "def calculate_output(weights, instance, bias):\n",
    "    sum = instance.dot(weights) + bias\n",
    "    return step_function(sum)"
   ]
  },
  {
   "cell_type": "code",
   "execution_count": 4,
   "metadata": {},
   "outputs": [],
   "source": [
    "\n",
    "INPUTS = np.array([[-1, -1], [1, -1], [-1, 1], [1, 1]])\n",
    "LEARNING_RATE = 0.1\n",
    "and_outputs = np.array([-1, -1, -1, 1])\n",
    "or_outputs = np.array([-1, 1, 1, 1])"
   ]
  },
  {
   "cell_type": "code",
   "execution_count": 7,
   "metadata": {},
   "outputs": [],
   "source": [
    "weights = np.array([0.0, 0.0])\n",
    "bias = 0"
   ]
  },
  {
   "cell_type": "code",
   "execution_count": 9,
   "metadata": {},
   "outputs": [
    {
     "name": "stdout",
     "output_type": "stream",
     "text": [
      "Weight updated: 0.1\n",
      "Weight updated: 0.1\n",
      "Bias updated`: -0.1\n",
      "----------------------------------------\n",
      "Total error: -2\n",
      "----------------------------------------\n",
      "Total error: 0\n",
      "----------------------------------------\n"
     ]
    }
   ],
   "source": [
    "returned_weights, returned_bias =  adaline(and_outputs, weights, bias)"
   ]
  },
  {
   "cell_type": "code",
   "execution_count": 10,
   "metadata": {},
   "outputs": [
    {
     "name": "stdout",
     "output_type": "stream",
     "text": [
      "prediction for [-1, -1]: -1\n",
      "prediction for [1, -1]: -1\n",
      "prediction for [-1, 1]: -1\n",
      "prediction for [1, 1]: 1\n"
     ]
    }
   ],
   "source": [
    "print('prediction for [-1, -1]: ' + str(calculate_output(returned_weights, np.array([[-1, -1]]), returned_bias)))\n",
    "print('prediction for [1, -1]: ' + str(calculate_output(returned_weights, np.array([[1, -1]]), returned_bias)))\n",
    "print('prediction for [-1, 1]: ' + str(calculate_output(returned_weights, np.array([[-1, 1]]), returned_bias)))\n",
    "print('prediction for [1, 1]: ' + str(calculate_output(returned_weights, np.array([[1, 1]]), returned_bias)))"
   ]
  }
 ],
 "metadata": {
  "kernelspec": {
   "display_name": "Python 3",
   "language": "python",
   "name": "python3"
  },
  "language_info": {
   "codemirror_mode": {
    "name": "ipython",
    "version": 3
   },
   "file_extension": ".py",
   "mimetype": "text/x-python",
   "name": "python",
   "nbconvert_exporter": "python",
   "pygments_lexer": "ipython3",
   "version": "3.11.5"
  },
  "orig_nbformat": 4
 },
 "nbformat": 4,
 "nbformat_minor": 2
}
